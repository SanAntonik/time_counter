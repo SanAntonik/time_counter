{
 "cells": [
  {
   "attachments": {},
   "cell_type": "markdown",
   "metadata": {},
   "source": [
    "# Here you test something"
   ]
  },
  {
   "attachments": {},
   "cell_type": "markdown",
   "metadata": {},
   "source": [
    "Cols meaning:\n",
    "- Day - day of the month\n",
    "- DKind - day kind\n",
    "- EC - exercise count\n",
    "- EI - exercise intensity - has six levels from 0 - didn't exercise to 5 - hard exercise (More info in a separate message)\n",
    "- OD - outdoor\n",
    "- LE - left-eye reading\n",
    "- RN - running\n",
    "- GM - gaming\n"
   ]
  },
  {
   "attachments": {},
   "cell_type": "markdown",
   "metadata": {},
   "source": [
    "(Separate message about EI)\n",
    "Exercise intensity notation:\n",
    "- 0 - you didn't exercise\n",
    "- 1 - easy\n",
    "- 2 - between easy and moderate\n",
    "- 3 - moderate\n",
    "- 4 - between moderate and hard\n",
    "- 5 - hard"
   ]
  },
  {
   "cell_type": "code",
   "execution_count": 1,
   "metadata": {},
   "outputs": [
    {
     "ename": "ValueError",
     "evalue": "cannot convert float NaN to integer",
     "output_type": "error",
     "traceback": [
      "\u001b[1;31m---------------------------------------------------------------------------\u001b[0m",
      "\u001b[1;31mValueError\u001b[0m                                Traceback (most recent call last)",
      "Input \u001b[1;32mIn [1]\u001b[0m, in \u001b[0;36m<module>\u001b[1;34m\u001b[0m\n\u001b[0;32m      4\u001b[0m \u001b[38;5;28;01mfrom\u001b[39;00m \u001b[38;5;21;01mpreparation\u001b[39;00m\u001b[38;5;21;01m.\u001b[39;00m\u001b[38;5;21;01mprepare_data\u001b[39;00m \u001b[38;5;28;01mimport\u001b[39;00m prepare_data\n\u001b[0;32m      5\u001b[0m \u001b[38;5;28;01mfrom\u001b[39;00m \u001b[38;5;21;01mconstants\u001b[39;00m \u001b[38;5;28;01mimport\u001b[39;00m PATH, APPEND_PATH, PREVIOUS_DATA_FOLDER, DESIRED_MEAN_VALUE\n\u001b[1;32m----> 7\u001b[0m rep_data, wide_use_data, feedback_data \u001b[38;5;241m=\u001b[39m \u001b[43mprepare_data\u001b[49m\u001b[43m(\u001b[49m\u001b[43mPATH\u001b[49m\u001b[43m,\u001b[49m\u001b[43m \u001b[49m\u001b[43mDESIRED_MEAN_VALUE\u001b[49m\u001b[43m)\u001b[49m\n\u001b[0;32m      8\u001b[0m month, mean, std, df \u001b[38;5;241m=\u001b[39m wide_use_data\n\u001b[0;32m      9\u001b[0m df\n",
      "File \u001b[1;32mc:\\Users\\San\\Documents\\CS projects\\time_counter\\preparation\\prepare_data.py:24\u001b[0m, in \u001b[0;36mprepare_data\u001b[1;34m(PATH, DESIRED_MEAN_VALUE)\u001b[0m\n\u001b[0;32m     22\u001b[0m \u001b[38;5;66;03m# in_df means initial_df; st_df means study_df\u001b[39;00m\n\u001b[0;32m     23\u001b[0m month, in_df \u001b[38;5;241m=\u001b[39m prepare_initial_df(PATH)\n\u001b[1;32m---> 24\u001b[0m wide_use_data, \u001b[38;5;241m*\u001b[39mst_rep_data \u001b[38;5;241m=\u001b[39m \u001b[43mcalc_study_data\u001b[49m\u001b[43m(\u001b[49m\u001b[43min_df\u001b[49m\u001b[43m[\u001b[49m\u001b[43m[\u001b[49m\u001b[38;5;124;43m\"\u001b[39;49m\u001b[38;5;124;43mDay\u001b[39;49m\u001b[38;5;124;43m\"\u001b[39;49m\u001b[43m,\u001b[49m\u001b[43m \u001b[49m\u001b[38;5;124;43m\"\u001b[39;49m\u001b[38;5;124;43mDKind\u001b[39;49m\u001b[38;5;124;43m\"\u001b[39;49m\u001b[43m,\u001b[49m\n\u001b[0;32m     25\u001b[0m \u001b[43m                                                     \u001b[49m\u001b[38;5;124;43m\"\u001b[39;49m\u001b[38;5;124;43mMath\u001b[39;49m\u001b[38;5;124;43m\"\u001b[39;49m\u001b[43m,\u001b[49m\u001b[43m \u001b[49m\u001b[38;5;124;43m\"\u001b[39;49m\u001b[38;5;124;43mCS\u001b[39;49m\u001b[38;5;124;43m\"\u001b[39;49m\u001b[43m,\u001b[49m\n\u001b[0;32m     26\u001b[0m \u001b[43m                                                     \u001b[49m\u001b[38;5;124;43m\"\u001b[39;49m\u001b[38;5;124;43mEng\u001b[39;49m\u001b[38;5;124;43m\"\u001b[39;49m\u001b[43m]\u001b[49m\u001b[43m]\u001b[49m\u001b[43m,\u001b[49m\n\u001b[0;32m     27\u001b[0m \u001b[43m                                              \u001b[49m\u001b[43mDESIRED_MEAN_VALUE\u001b[49m\u001b[43m)\u001b[49m\n\u001b[0;32m     28\u001b[0m \u001b[38;5;66;03m# unpack wide_use_data\u001b[39;00m\n\u001b[0;32m     29\u001b[0m st_df, mean, std, min_to_study \u001b[38;5;241m=\u001b[39m wide_use_data\n",
      "File \u001b[1;32mc:\\Users\\San\\Documents\\CS projects\\time_counter\\preparation\\calc_study_data.py:34\u001b[0m, in \u001b[0;36mcalc_study_data\u001b[1;34m(df, DESIRED_MEAN_VALUE)\u001b[0m\n\u001b[0;32m     32\u001b[0m     df_removed_day_offs \u001b[38;5;241m=\u001b[39m df[\u001b[38;5;241m~\u001b[39mdf[\u001b[38;5;124m\"\u001b[39m\u001b[38;5;124mDKind\u001b[39m\u001b[38;5;124m\"\u001b[39m]\u001b[38;5;241m.\u001b[39mstr\u001b[38;5;241m.\u001b[39mcontains(\u001b[38;5;124m\"\u001b[39m\u001b[38;5;124mrelax\u001b[39m\u001b[38;5;124m\"\u001b[39m)]\n\u001b[0;32m     33\u001b[0m     total_per_day \u001b[38;5;241m=\u001b[39m df_removed_day_offs[\u001b[38;5;124m\"\u001b[39m\u001b[38;5;124mTotal\u001b[39m\u001b[38;5;124m\"\u001b[39m]\n\u001b[1;32m---> 34\u001b[0m mean \u001b[38;5;241m=\u001b[39m \u001b[38;5;28;43mround\u001b[39;49m\u001b[43m(\u001b[49m\u001b[43mtotal_per_day\u001b[49m\u001b[38;5;241;43m.\u001b[39;49m\u001b[43mmean\u001b[49m\u001b[43m(\u001b[49m\u001b[43m)\u001b[49m\u001b[43m)\u001b[49m\n\u001b[0;32m     35\u001b[0m std \u001b[38;5;241m=\u001b[39m \u001b[38;5;28mround\u001b[39m(total_per_day\u001b[38;5;241m.\u001b[39mstd(ddof\u001b[38;5;241m=\u001b[39m\u001b[38;5;241m0\u001b[39m))\n\u001b[0;32m     36\u001b[0m min_to_study \u001b[38;5;241m=\u001b[39m calc_req_study_time(total_per_day,\n\u001b[0;32m     37\u001b[0m                                    DESIRED_MEAN_VALUE)\n",
      "\u001b[1;31mValueError\u001b[0m: cannot convert float NaN to integer"
     ]
    }
   ],
   "source": [
    "import numpy as np\n",
    "import pandas as pd\n",
    "\n",
    "from preparation.prepare_data import prepare_data\n",
    "from constants import PATH, APPEND_PATH, PREVIOUS_DATA_FOLDER, DESIRED_MEAN_VALUE\n",
    "\n",
    "rep_data, wide_use_data, feedback_data = prepare_data(PATH, DESIRED_MEAN_VALUE)\n",
    "month, mean, std, df = wide_use_data\n",
    "df"
   ]
  },
  {
   "cell_type": "code",
   "execution_count": null,
   "metadata": {},
   "outputs": [
    {
     "data": {
      "text/plain": [
       "([0, 61, 29, 90, 244, 6, '4, 5, 9, 11, 15, 19'],\n",
       " [['OD', 'LE', 'RN', 'GM'],\n",
       "  16,\n",
       "  [45.48, 4.0, 2.08, 24.9],\n",
       "  [21, 12, 6, 15],\n",
       "  {1: 1, 2: 3, 3: 1, 4: 10, 5: 2}])"
      ]
     },
     "execution_count": 2,
     "metadata": {},
     "output_type": "execute_result"
    }
   ],
   "source": [
    "rep_data"
   ]
  }
 ],
 "metadata": {
  "kernelspec": {
   "display_name": "Python 3",
   "language": "python",
   "name": "python3"
  },
  "language_info": {
   "codemirror_mode": {
    "name": "ipython",
    "version": 3
   },
   "file_extension": ".py",
   "mimetype": "text/x-python",
   "name": "python",
   "nbconvert_exporter": "python",
   "pygments_lexer": "ipython3",
   "version": "3.10.2"
  },
  "orig_nbformat": 4,
  "vscode": {
   "interpreter": {
    "hash": "372546374ee67f23bce4863fdb45197b8301cd73a13a929f5ade301179cf3c81"
   }
  }
 },
 "nbformat": 4,
 "nbformat_minor": 2
}
