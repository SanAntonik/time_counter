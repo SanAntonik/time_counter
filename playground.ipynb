{
 "cells": [
  {
   "cell_type": "code",
   "execution_count": 1,
   "metadata": {},
   "outputs": [],
   "source": [
    "import numpy as np\n",
    "import pandas as pd\n",
    "\n",
    "from preparation import prepare_data\n",
    "from calculation import calculate_data\n",
    "from handle_reports import generate_report, append_report\n",
    "from monitoring import cur_stats\n",
    "from plotting import plot_data"
   ]
  },
  {
   "attachments": {},
   "cell_type": "markdown",
   "metadata": {},
   "source": [
    "Here you test something"
   ]
  },
  {
   "cell_type": "code",
   "execution_count": 2,
   "metadata": {},
   "outputs": [],
   "source": [
    "PATH = \"C:/Users/San/Documents/inf/time monitoring/test_data.txt\"\n",
    "DAY_OFFS = []"
   ]
  },
  {
   "cell_type": "code",
   "execution_count": 3,
   "metadata": {},
   "outputs": [],
   "source": [
    "# month, df, day_offs_count, day_offs_str = prepare_data(PATH, DAY_OFFS)"
   ]
  },
  {
   "cell_type": "code",
   "execution_count": 4,
   "metadata": {},
   "outputs": [
    {
     "data": {
      "text/html": [
       "<div>\n",
       "<style scoped>\n",
       "    .dataframe tbody tr th:only-of-type {\n",
       "        vertical-align: middle;\n",
       "    }\n",
       "\n",
       "    .dataframe tbody tr th {\n",
       "        vertical-align: top;\n",
       "    }\n",
       "\n",
       "    .dataframe thead th {\n",
       "        text-align: right;\n",
       "    }\n",
       "</style>\n",
       "<table border=\"1\" class=\"dataframe\">\n",
       "  <thead>\n",
       "    <tr style=\"text-align: right;\">\n",
       "      <th></th>\n",
       "      <th>Day</th>\n",
       "      <th>Math</th>\n",
       "      <th>CS</th>\n",
       "      <th>Eng</th>\n",
       "      <th>Sport</th>\n",
       "      <th>SIL</th>\n",
       "      <th>OD</th>\n",
       "      <th>LE</th>\n",
       "      <th>Jug</th>\n",
       "      <th>GMG</th>\n",
       "    </tr>\n",
       "  </thead>\n",
       "  <tbody>\n",
       "    <tr>\n",
       "      <th>0</th>\n",
       "      <td>January 2023</td>\n",
       "      <td>NaN</td>\n",
       "      <td>NaN</td>\n",
       "      <td>NaN</td>\n",
       "      <td>None</td>\n",
       "      <td>NaN</td>\n",
       "      <td>None</td>\n",
       "      <td>None</td>\n",
       "      <td>None</td>\n",
       "      <td>None</td>\n",
       "    </tr>\n",
       "    <tr>\n",
       "      <th>1</th>\n",
       "      <td>17</td>\n",
       "      <td>90.0</td>\n",
       "      <td>85.0</td>\n",
       "      <td>131.0</td>\n",
       "      <td>pa9</td>\n",
       "      <td>3.0</td>\n",
       "      <td>ou60</td>\n",
       "      <td>le5</td>\n",
       "      <td>ju0</td>\n",
       "      <td>ga240</td>\n",
       "    </tr>\n",
       "    <tr>\n",
       "      <th>2</th>\n",
       "      <td>18</td>\n",
       "      <td>80.0</td>\n",
       "      <td>110.0</td>\n",
       "      <td>70.0</td>\n",
       "      <td>pa10</td>\n",
       "      <td>3.0</td>\n",
       "      <td>ou60</td>\n",
       "      <td>le5</td>\n",
       "      <td>ju0</td>\n",
       "      <td>ga65</td>\n",
       "    </tr>\n",
       "    <tr>\n",
       "      <th>3</th>\n",
       "      <td>19</td>\n",
       "      <td>70.0</td>\n",
       "      <td>90.0</td>\n",
       "      <td>65.0</td>\n",
       "      <td>pa10</td>\n",
       "      <td>0.0</td>\n",
       "      <td>ou70</td>\n",
       "      <td>le0</td>\n",
       "      <td>ju10</td>\n",
       "      <td>ga260</td>\n",
       "    </tr>\n",
       "    <tr>\n",
       "      <th>4</th>\n",
       "      <td>20</td>\n",
       "      <td>70.0</td>\n",
       "      <td>70.0</td>\n",
       "      <td>35.0</td>\n",
       "      <td>pa11</td>\n",
       "      <td>3.0</td>\n",
       "      <td>ou40</td>\n",
       "      <td>le5</td>\n",
       "      <td>ju0</td>\n",
       "      <td>ga150</td>\n",
       "    </tr>\n",
       "  </tbody>\n",
       "</table>\n",
       "</div>"
      ],
      "text/plain": [
       "            Day  Math     CS    Eng Sport  SIL    OD    LE   Jug    GMG\n",
       "0  January 2023   NaN    NaN    NaN  None  NaN  None  None  None   None\n",
       "1            17  90.0   85.0  131.0   pa9  3.0  ou60   le5   ju0  ga240\n",
       "2            18  80.0  110.0   70.0  pa10  3.0  ou60   le5   ju0   ga65\n",
       "3            19  70.0   90.0   65.0  pa10  0.0  ou70   le0  ju10  ga260\n",
       "4            20  70.0   70.0   35.0  pa11  3.0  ou40   le5   ju0  ga150"
      ]
     },
     "execution_count": 4,
     "metadata": {},
     "output_type": "execute_result"
    }
   ],
   "source": [
    "# Create list of colnames\n",
    "colnames = [\"Day\", \"Math\", \"CS\", \"Eng\", \"Sport\", \"SIL\", \"OD\", \"LE\", \"Jug\", \"GMG\"]\n",
    "# Load data into df with sep equal to ':' and '_'\n",
    "df = pd.read_csv(\n",
    "    filepath_or_buffer=PATH, sep=\"[:_-]\", names=colnames,\n",
    "    header=None, engine=\"python\")\n",
    "df"
   ]
  },
  {
   "cell_type": "code",
   "execution_count": 5,
   "metadata": {},
   "outputs": [],
   "source": [
    "# Create var 'month' with df data from row 0 and col 0\n",
    "month = df.iloc[0][0]\n",
    "# Drop the row 0 where 'month' was\n",
    "df.drop(index=0, inplace=True)\n",
    "# Reset index, so it again starts with 0\n",
    "df = df.reset_index(drop=True)"
   ]
  },
  {
   "cell_type": "code",
   "execution_count": 6,
   "metadata": {},
   "outputs": [],
   "source": [
    "# small func used in lambda expression\n",
    "def categorise(row, DAY_OFFS):\n",
    "    if row[\"Day\"] in DAY_OFFS:\n",
    "        return \"relax\"\n",
    "    return \"work\"\n"
   ]
  },
  {
   "cell_type": "code",
   "execution_count": 7,
   "metadata": {},
   "outputs": [],
   "source": [
    "# in the cols below first two symbols are for easier\n",
    "# identification while writing the data. Many thanks\n",
    "# to https://stackoverflow.com/a/42349635/11749578\n",
    "cols_to_shorten = [\"Sport\", \"OD\", \"LE\", \"Jug\", \"GMG\"]\n",
    "for col in cols_to_shorten:\n",
    "    df[col] = df[col].str[2:]\n",
    "# Convert all col dtypes to int64\n",
    "df[colnames] = df[colnames].astype(\"int64\")\n",
    "# Create a new col with info about whether\n",
    "# you work or relax on a particular day\n",
    "df[\"DKind\"] = df.apply(lambda row: categorise(row, DAY_OFFS), axis=1)\n",
    "# Create two day_offs vars for generate_report\n",
    "# func. With these two vars, reports will\n",
    "# provide a more detailed picture of the month\n",
    "day_offs_count = len(DAY_OFFS)\n",
    "if day_offs_count > 0:\n",
    "    day_offs_str = ', '.join(map(str, DAY_OFFS))\n",
    "else:\n",
    "    day_offs_str = \"you studied every day\"\n",
    "# Rearrange order of cols\n",
    "cols = df.columns.tolist()\n",
    "cols = [cols[0]] + [cols[-1]] + cols[1:-1]\n"
   ]
  },
  {
   "cell_type": "code",
   "execution_count": 8,
   "metadata": {},
   "outputs": [],
   "source": [
    "df = df[cols]"
   ]
  },
  {
   "attachments": {},
   "cell_type": "markdown",
   "metadata": {},
   "source": [
    "Cols meaning:\n",
    "- Day - day of the month\n",
    "- DKind - day kind\n",
    "- SIL - sport intensity level - has six levels from 0 - didn't exercise to 5 - hard exercise (More info in a separate message)\n",
    "- OD - outdoor\n",
    "- LE - left-eye reading\n",
    "- Jug - juggling\n",
    "- GMG - gaming\n"
   ]
  },
  {
   "attachments": {},
   "cell_type": "markdown",
   "metadata": {},
   "source": [
    "Exercise intensity notation:\n",
    "- 0 - you didn't exercise\n",
    "- 1 - easy\n",
    "- 2 - between easy and moderate\n",
    "- 3 - moderate\n",
    "- 4 - between moderate and hard\n",
    "- 5 - hard"
   ]
  },
  {
   "cell_type": "code",
   "execution_count": 9,
   "metadata": {},
   "outputs": [
    {
     "data": {
      "text/html": [
       "<div>\n",
       "<style scoped>\n",
       "    .dataframe tbody tr th:only-of-type {\n",
       "        vertical-align: middle;\n",
       "    }\n",
       "\n",
       "    .dataframe tbody tr th {\n",
       "        vertical-align: top;\n",
       "    }\n",
       "\n",
       "    .dataframe thead th {\n",
       "        text-align: right;\n",
       "    }\n",
       "</style>\n",
       "<table border=\"1\" class=\"dataframe\">\n",
       "  <thead>\n",
       "    <tr style=\"text-align: right;\">\n",
       "      <th></th>\n",
       "      <th>Day</th>\n",
       "      <th>DKind</th>\n",
       "      <th>Math</th>\n",
       "      <th>CS</th>\n",
       "      <th>Eng</th>\n",
       "      <th>Sport</th>\n",
       "      <th>SIL</th>\n",
       "      <th>OD</th>\n",
       "      <th>LE</th>\n",
       "      <th>Jug</th>\n",
       "      <th>GMG</th>\n",
       "    </tr>\n",
       "  </thead>\n",
       "  <tbody>\n",
       "    <tr>\n",
       "      <th>0</th>\n",
       "      <td>17</td>\n",
       "      <td>work</td>\n",
       "      <td>90</td>\n",
       "      <td>85</td>\n",
       "      <td>131</td>\n",
       "      <td>9</td>\n",
       "      <td>3</td>\n",
       "      <td>60</td>\n",
       "      <td>5</td>\n",
       "      <td>0</td>\n",
       "      <td>240</td>\n",
       "    </tr>\n",
       "    <tr>\n",
       "      <th>1</th>\n",
       "      <td>18</td>\n",
       "      <td>work</td>\n",
       "      <td>80</td>\n",
       "      <td>110</td>\n",
       "      <td>70</td>\n",
       "      <td>10</td>\n",
       "      <td>3</td>\n",
       "      <td>60</td>\n",
       "      <td>5</td>\n",
       "      <td>0</td>\n",
       "      <td>65</td>\n",
       "    </tr>\n",
       "    <tr>\n",
       "      <th>2</th>\n",
       "      <td>19</td>\n",
       "      <td>work</td>\n",
       "      <td>70</td>\n",
       "      <td>90</td>\n",
       "      <td>65</td>\n",
       "      <td>10</td>\n",
       "      <td>0</td>\n",
       "      <td>70</td>\n",
       "      <td>0</td>\n",
       "      <td>10</td>\n",
       "      <td>260</td>\n",
       "    </tr>\n",
       "    <tr>\n",
       "      <th>3</th>\n",
       "      <td>20</td>\n",
       "      <td>work</td>\n",
       "      <td>70</td>\n",
       "      <td>70</td>\n",
       "      <td>35</td>\n",
       "      <td>11</td>\n",
       "      <td>3</td>\n",
       "      <td>40</td>\n",
       "      <td>5</td>\n",
       "      <td>0</td>\n",
       "      <td>150</td>\n",
       "    </tr>\n",
       "  </tbody>\n",
       "</table>\n",
       "</div>"
      ],
      "text/plain": [
       "   Day DKind  Math   CS  Eng  Sport  SIL  OD  LE  Jug  GMG\n",
       "0   17  work    90   85  131      9    3  60   5    0  240\n",
       "1   18  work    80  110   70     10    3  60   5    0   65\n",
       "2   19  work    70   90   65     10    0  70   0   10  260\n",
       "3   20  work    70   70   35     11    3  40   5    0  150"
      ]
     },
     "execution_count": 9,
     "metadata": {},
     "output_type": "execute_result"
    }
   ],
   "source": [
    "df"
   ]
  },
  {
   "cell_type": "code",
   "execution_count": 10,
   "metadata": {},
   "outputs": [
    {
     "data": {
      "text/plain": [
       "Day       int64\n",
       "DKind    object\n",
       "Math      int64\n",
       "CS        int64\n",
       "Eng       int64\n",
       "Sport     int64\n",
       "SIL       int64\n",
       "OD        int64\n",
       "LE        int64\n",
       "Jug       int64\n",
       "GMG       int64\n",
       "dtype: object"
      ]
     },
     "execution_count": 10,
     "metadata": {},
     "output_type": "execute_result"
    }
   ],
   "source": [
    "df.dtypes"
   ]
  },
  {
   "cell_type": "code",
   "execution_count": 11,
   "metadata": {},
   "outputs": [
    {
     "ename": "KeyError",
     "evalue": "'Sport'",
     "output_type": "error",
     "traceback": [
      "\u001b[1;31m---------------------------------------------------------------------------\u001b[0m",
      "\u001b[1;31mKeyError\u001b[0m                                  Traceback (most recent call last)",
      "File \u001b[1;32mc:\\Users\\San\\AppData\\Local\\Programs\\Python\\Python310\\lib\\site-packages\\pandas\\core\\indexes\\base.py:3621\u001b[0m, in \u001b[0;36mIndex.get_loc\u001b[1;34m(self, key, method, tolerance)\u001b[0m\n\u001b[0;32m   3620\u001b[0m \u001b[39mtry\u001b[39;00m:\n\u001b[1;32m-> 3621\u001b[0m     \u001b[39mreturn\u001b[39;00m \u001b[39mself\u001b[39;49m\u001b[39m.\u001b[39;49m_engine\u001b[39m.\u001b[39;49mget_loc(casted_key)\n\u001b[0;32m   3622\u001b[0m \u001b[39mexcept\u001b[39;00m \u001b[39mKeyError\u001b[39;00m \u001b[39mas\u001b[39;00m err:\n",
      "File \u001b[1;32mc:\\Users\\San\\AppData\\Local\\Programs\\Python\\Python310\\lib\\site-packages\\pandas\\_libs\\index.pyx:136\u001b[0m, in \u001b[0;36mpandas._libs.index.IndexEngine.get_loc\u001b[1;34m()\u001b[0m\n",
      "File \u001b[1;32mc:\\Users\\San\\AppData\\Local\\Programs\\Python\\Python310\\lib\\site-packages\\pandas\\_libs\\index.pyx:163\u001b[0m, in \u001b[0;36mpandas._libs.index.IndexEngine.get_loc\u001b[1;34m()\u001b[0m\n",
      "File \u001b[1;32mpandas\\_libs\\hashtable_class_helper.pxi:5198\u001b[0m, in \u001b[0;36mpandas._libs.hashtable.PyObjectHashTable.get_item\u001b[1;34m()\u001b[0m\n",
      "File \u001b[1;32mpandas\\_libs\\hashtable_class_helper.pxi:5206\u001b[0m, in \u001b[0;36mpandas._libs.hashtable.PyObjectHashTable.get_item\u001b[1;34m()\u001b[0m\n",
      "\u001b[1;31mKeyError\u001b[0m: 'Sport'",
      "\nThe above exception was the direct cause of the following exception:\n",
      "\u001b[1;31mKeyError\u001b[0m                                  Traceback (most recent call last)",
      "\u001b[1;32mc:\\Users\\San\\Documents\\CS projects\\time_counter\\playground.ipynb Cell 14\u001b[0m in \u001b[0;36m<module>\u001b[1;34m\u001b[0m\n\u001b[1;32m----> <a href='vscode-notebook-cell:/c%3A/Users/San/Documents/CS%20projects/time_counter/playground.ipynb#X14sZmlsZQ%3D%3D?line=0'>1</a>\u001b[0m df_study \u001b[39m=\u001b[39m calculate_data(df\u001b[39m.\u001b[39;49miloc[:, :\u001b[39m5\u001b[39;49m], \u001b[39m240\u001b[39;49m)\n\u001b[0;32m      <a href='vscode-notebook-cell:/c%3A/Users/San/Documents/CS%20projects/time_counter/playground.ipynb#X14sZmlsZQ%3D%3D?line=1'>2</a>\u001b[0m df_study\n",
      "File \u001b[1;32mc:\\Users\\San\\Documents\\CS projects\\time_counter\\calculation.py:17\u001b[0m, in \u001b[0;36mcalculate_data\u001b[1;34m(df, DESIRED_MEAN_VALUE)\u001b[0m\n\u001b[0;32m      6\u001b[0m \u001b[39m\"\"\"\u001b[39;00m\n\u001b[0;32m      7\u001b[0m \u001b[39mSummary:\u001b[39;00m\n\u001b[0;32m      8\u001b[0m \u001b[39m    complete all the required calculations in the program\u001b[39;00m\n\u001b[1;32m   (...)\u001b[0m\n\u001b[0;32m     14\u001b[0m \u001b[39m    list of data\u001b[39;00m\n\u001b[0;32m     15\u001b[0m \u001b[39m\"\"\"\u001b[39;00m\n\u001b[0;32m     16\u001b[0m \u001b[39m# get last value from the 'Sport' col\u001b[39;00m\n\u001b[1;32m---> 17\u001b[0m sport \u001b[39m=\u001b[39m df[\u001b[39m\"\u001b[39;49m\u001b[39mSport\u001b[39;49m\u001b[39m\"\u001b[39;49m]\u001b[39m.\u001b[39miloc[\u001b[39m-\u001b[39m\u001b[39m1\u001b[39m]\n\u001b[0;32m     18\u001b[0m \u001b[39m# get summed values from 'Math', 'CS', and 'Eng' cols\u001b[39;00m\n\u001b[0;32m     19\u001b[0m total_per_subject \u001b[39m=\u001b[39m df[[\u001b[39m\"\u001b[39m\u001b[39mMath\u001b[39m\u001b[39m\"\u001b[39m, \u001b[39m\"\u001b[39m\u001b[39mCS\u001b[39m\u001b[39m\"\u001b[39m, \u001b[39m\"\u001b[39m\u001b[39mEng\u001b[39m\u001b[39m\"\u001b[39m]]\u001b[39m.\u001b[39msum(\n\u001b[0;32m     20\u001b[0m     axis\u001b[39m=\u001b[39m\u001b[39m0\u001b[39m)\u001b[39m.\u001b[39mdiv(\u001b[39m60\u001b[39m)\u001b[39m.\u001b[39mround()\u001b[39m.\u001b[39mastype(np\u001b[39m.\u001b[39mint64)\n",
      "File \u001b[1;32mc:\\Users\\San\\AppData\\Local\\Programs\\Python\\Python310\\lib\\site-packages\\pandas\\core\\frame.py:3505\u001b[0m, in \u001b[0;36mDataFrame.__getitem__\u001b[1;34m(self, key)\u001b[0m\n\u001b[0;32m   3503\u001b[0m \u001b[39mif\u001b[39;00m \u001b[39mself\u001b[39m\u001b[39m.\u001b[39mcolumns\u001b[39m.\u001b[39mnlevels \u001b[39m>\u001b[39m \u001b[39m1\u001b[39m:\n\u001b[0;32m   3504\u001b[0m     \u001b[39mreturn\u001b[39;00m \u001b[39mself\u001b[39m\u001b[39m.\u001b[39m_getitem_multilevel(key)\n\u001b[1;32m-> 3505\u001b[0m indexer \u001b[39m=\u001b[39m \u001b[39mself\u001b[39;49m\u001b[39m.\u001b[39;49mcolumns\u001b[39m.\u001b[39;49mget_loc(key)\n\u001b[0;32m   3506\u001b[0m \u001b[39mif\u001b[39;00m is_integer(indexer):\n\u001b[0;32m   3507\u001b[0m     indexer \u001b[39m=\u001b[39m [indexer]\n",
      "File \u001b[1;32mc:\\Users\\San\\AppData\\Local\\Programs\\Python\\Python310\\lib\\site-packages\\pandas\\core\\indexes\\base.py:3623\u001b[0m, in \u001b[0;36mIndex.get_loc\u001b[1;34m(self, key, method, tolerance)\u001b[0m\n\u001b[0;32m   3621\u001b[0m     \u001b[39mreturn\u001b[39;00m \u001b[39mself\u001b[39m\u001b[39m.\u001b[39m_engine\u001b[39m.\u001b[39mget_loc(casted_key)\n\u001b[0;32m   3622\u001b[0m \u001b[39mexcept\u001b[39;00m \u001b[39mKeyError\u001b[39;00m \u001b[39mas\u001b[39;00m err:\n\u001b[1;32m-> 3623\u001b[0m     \u001b[39mraise\u001b[39;00m \u001b[39mKeyError\u001b[39;00m(key) \u001b[39mfrom\u001b[39;00m \u001b[39merr\u001b[39;00m\n\u001b[0;32m   3624\u001b[0m \u001b[39mexcept\u001b[39;00m \u001b[39mTypeError\u001b[39;00m:\n\u001b[0;32m   3625\u001b[0m     \u001b[39m# If we have a listlike key, _check_indexing_error will raise\u001b[39;00m\n\u001b[0;32m   3626\u001b[0m     \u001b[39m#  InvalidIndexError. Otherwise we fall through and re-raise\u001b[39;00m\n\u001b[0;32m   3627\u001b[0m     \u001b[39m#  the TypeError.\u001b[39;00m\n\u001b[0;32m   3628\u001b[0m     \u001b[39mself\u001b[39m\u001b[39m.\u001b[39m_check_indexing_error(key)\n",
      "\u001b[1;31mKeyError\u001b[0m: 'Sport'"
     ]
    }
   ],
   "source": [
    "df_study = calculate_data(df.iloc[:, :5], 240)\n",
    "df_study"
   ]
  },
  {
   "cell_type": "code",
   "execution_count": null,
   "metadata": {},
   "outputs": [
    {
     "data": {
      "text/html": [
       "<div>\n",
       "<style scoped>\n",
       "    .dataframe tbody tr th:only-of-type {\n",
       "        vertical-align: middle;\n",
       "    }\n",
       "\n",
       "    .dataframe tbody tr th {\n",
       "        vertical-align: top;\n",
       "    }\n",
       "\n",
       "    .dataframe thead th {\n",
       "        text-align: right;\n",
       "    }\n",
       "</style>\n",
       "<table border=\"1\" class=\"dataframe\">\n",
       "  <thead>\n",
       "    <tr style=\"text-align: right;\">\n",
       "      <th></th>\n",
       "      <th>Day</th>\n",
       "      <th>Math</th>\n",
       "      <th>CS</th>\n",
       "      <th>Eng</th>\n",
       "      <th>Sport</th>\n",
       "      <th>Intensity</th>\n",
       "      <th>Outdoor</th>\n",
       "      <th>LE</th>\n",
       "      <th>Jug</th>\n",
       "      <th>Gaming</th>\n",
       "    </tr>\n",
       "  </thead>\n",
       "  <tbody>\n",
       "    <tr>\n",
       "      <th>0</th>\n",
       "      <td>17</td>\n",
       "      <td>90</td>\n",
       "      <td>85</td>\n",
       "      <td>131</td>\n",
       "      <td>9</td>\n",
       "      <td>3</td>\n",
       "      <td>60</td>\n",
       "      <td>5</td>\n",
       "      <td>0</td>\n",
       "      <td>240</td>\n",
       "    </tr>\n",
       "    <tr>\n",
       "      <th>1</th>\n",
       "      <td>18</td>\n",
       "      <td>80</td>\n",
       "      <td>110</td>\n",
       "      <td>70</td>\n",
       "      <td>10</td>\n",
       "      <td>3</td>\n",
       "      <td>60</td>\n",
       "      <td>5</td>\n",
       "      <td>0</td>\n",
       "      <td>65</td>\n",
       "    </tr>\n",
       "    <tr>\n",
       "      <th>2</th>\n",
       "      <td>19</td>\n",
       "      <td>70</td>\n",
       "      <td>90</td>\n",
       "      <td>65</td>\n",
       "      <td>10</td>\n",
       "      <td>0</td>\n",
       "      <td>70</td>\n",
       "      <td>0</td>\n",
       "      <td>10</td>\n",
       "      <td>260</td>\n",
       "    </tr>\n",
       "    <tr>\n",
       "      <th>3</th>\n",
       "      <td>20</td>\n",
       "      <td>70</td>\n",
       "      <td>70</td>\n",
       "      <td>35</td>\n",
       "      <td>11</td>\n",
       "      <td>3</td>\n",
       "      <td>40</td>\n",
       "      <td>5</td>\n",
       "      <td>0</td>\n",
       "      <td>150</td>\n",
       "    </tr>\n",
       "  </tbody>\n",
       "</table>\n",
       "</div>"
      ],
      "text/plain": [
       "   Day  Math   CS  Eng Sport  Intensity Outdoor LE Jug Gaming\n",
       "0   17    90   85  131     9          3      60  5   0    240\n",
       "1   18    80  110   70    10          3      60  5   0     65\n",
       "2   19    70   90   65    10          0      70  0  10    260\n",
       "3   20    70   70   35    11          3      40  5   0    150"
      ]
     },
     "execution_count": 17,
     "metadata": {},
     "output_type": "execute_result"
    }
   ],
   "source": [
    "df"
   ]
  }
 ],
 "metadata": {
  "kernelspec": {
   "display_name": "Python 3",
   "language": "python",
   "name": "python3"
  },
  "language_info": {
   "codemirror_mode": {
    "name": "ipython",
    "version": 3
   },
   "file_extension": ".py",
   "mimetype": "text/x-python",
   "name": "python",
   "nbconvert_exporter": "python",
   "pygments_lexer": "ipython3",
   "version": "3.10.2"
  },
  "orig_nbformat": 4,
  "vscode": {
   "interpreter": {
    "hash": "372546374ee67f23bce4863fdb45197b8301cd73a13a929f5ade301179cf3c81"
   }
  }
 },
 "nbformat": 4,
 "nbformat_minor": 2
}
