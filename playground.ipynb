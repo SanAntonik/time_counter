{
 "cells": [
  {
   "attachments": {},
   "cell_type": "markdown",
   "metadata": {},
   "source": [
    "# Here you test something"
   ]
  },
  {
   "attachments": {},
   "cell_type": "markdown",
   "metadata": {},
   "source": [
    "Cols meaning:\n",
    "- Day - day of the month\n",
    "- DKind - day kind\n",
    "- EC - exercise count\n",
    "- EI - exercise intensity - has six levels from 0 - didn't exercise to 5 - hard exercise (More info in a separate message)\n",
    "- OD - outdoor\n",
    "- LE - left-eye reading\n",
    "- JG - juggling\n",
    "- GM - gaming\n"
   ]
  },
  {
   "attachments": {},
   "cell_type": "markdown",
   "metadata": {},
   "source": [
    "(Separate message about EI)\n",
    "Exercise intensity notation:\n",
    "- 0 - you didn't exercise\n",
    "- 1 - easy\n",
    "- 2 - between easy and moderate\n",
    "- 3 - moderate\n",
    "- 4 - between moderate and hard\n",
    "- 5 - hard"
   ]
  },
  {
   "cell_type": "code",
   "execution_count": 1,
   "metadata": {},
   "outputs": [
    {
     "data": {
      "text/html": [
       "<div>\n",
       "<style scoped>\n",
       "    .dataframe tbody tr th:only-of-type {\n",
       "        vertical-align: middle;\n",
       "    }\n",
       "\n",
       "    .dataframe tbody tr th {\n",
       "        vertical-align: top;\n",
       "    }\n",
       "\n",
       "    .dataframe thead th {\n",
       "        text-align: right;\n",
       "    }\n",
       "</style>\n",
       "<table border=\"1\" class=\"dataframe\">\n",
       "  <thead>\n",
       "    <tr style=\"text-align: right;\">\n",
       "      <th></th>\n",
       "      <th>Day</th>\n",
       "      <th>DKind</th>\n",
       "      <th>Math</th>\n",
       "      <th>CS</th>\n",
       "      <th>Eng</th>\n",
       "      <th>Total</th>\n",
       "      <th>EC</th>\n",
       "      <th>EI</th>\n",
       "      <th>OD</th>\n",
       "      <th>LE</th>\n",
       "      <th>JG</th>\n",
       "      <th>GM</th>\n",
       "    </tr>\n",
       "  </thead>\n",
       "  <tbody>\n",
       "    <tr>\n",
       "      <th>0</th>\n",
       "      <td>1</td>\n",
       "      <td>work</td>\n",
       "      <td>0</td>\n",
       "      <td>212</td>\n",
       "      <td>11</td>\n",
       "      <td>223</td>\n",
       "      <td>1</td>\n",
       "      <td>2</td>\n",
       "      <td>120</td>\n",
       "      <td>0</td>\n",
       "      <td>0</td>\n",
       "      <td>0</td>\n",
       "    </tr>\n",
       "    <tr>\n",
       "      <th>1</th>\n",
       "      <td>2</td>\n",
       "      <td>work</td>\n",
       "      <td>90</td>\n",
       "      <td>0</td>\n",
       "      <td>9</td>\n",
       "      <td>99</td>\n",
       "      <td>1</td>\n",
       "      <td>0</td>\n",
       "      <td>12</td>\n",
       "      <td>0</td>\n",
       "      <td>15</td>\n",
       "      <td>0</td>\n",
       "    </tr>\n",
       "  </tbody>\n",
       "</table>\n",
       "</div>"
      ],
      "text/plain": [
       "   Day DKind  Math   CS  Eng  Total  EC  EI   OD  LE  JG  GM\n",
       "0    1  work     0  212   11    223   1   2  120   0   0   0\n",
       "1    2  work    90    0    9     99   1   0   12   0  15   0"
      ]
     },
     "execution_count": 1,
     "metadata": {},
     "output_type": "execute_result"
    }
   ],
   "source": [
    "import numpy as np\n",
    "import pandas as pd\n",
    "\n",
    "from preparation.prepare_data import prepare_data\n",
    "from constants import PATH, APPEND_PATH, PREVIOUS_DATA_FOLDER\n",
    "\n",
    "DAY_OFFS = []\n",
    "DESIRED_MEAN_VALUE = 275\n",
    "report_data, wide_use_data = prepare_data(PATH, DAY_OFFS,\n",
    "                                              DESIRED_MEAN_VALUE)\n",
    "month, mean, std, min_to_study, df, EI_last = wide_use_data\n",
    "df"
   ]
  },
  {
   "cell_type": "code",
   "execution_count": 2,
   "metadata": {},
   "outputs": [
    {
     "data": {
      "text/plain": [
       "([2, 4, 0, 5, 161, 0, 'you studied every day'],\n",
       " [['OD', 'LE', 'JG', 'GM'],\n",
       "  1,\n",
       "  [2.2, 0.0, 0.25, 0.0],\n",
       "  [2, 0, 1, 0],\n",
       "  {1: 0, 2: 1, 3: 0, 4: 0, 5: 0}])"
      ]
     },
     "execution_count": 2,
     "metadata": {},
     "output_type": "execute_result"
    }
   ],
   "source": [
    "report_data"
   ]
  },
  {
   "cell_type": "code",
   "execution_count": 3,
   "metadata": {},
   "outputs": [
    {
     "data": {
      "text/html": [
       "<div>\n",
       "<style scoped>\n",
       "    .dataframe tbody tr th:only-of-type {\n",
       "        vertical-align: middle;\n",
       "    }\n",
       "\n",
       "    .dataframe tbody tr th {\n",
       "        vertical-align: top;\n",
       "    }\n",
       "\n",
       "    .dataframe thead th {\n",
       "        text-align: right;\n",
       "    }\n",
       "</style>\n",
       "<table border=\"1\" class=\"dataframe\">\n",
       "  <thead>\n",
       "    <tr style=\"text-align: right;\">\n",
       "      <th></th>\n",
       "      <th>Day</th>\n",
       "      <th>EC</th>\n",
       "      <th>EI</th>\n",
       "      <th>OD</th>\n",
       "      <th>LE</th>\n",
       "      <th>JG</th>\n",
       "      <th>GM</th>\n",
       "    </tr>\n",
       "  </thead>\n",
       "  <tbody>\n",
       "    <tr>\n",
       "      <th>0</th>\n",
       "      <td>1</td>\n",
       "      <td>1</td>\n",
       "      <td>2</td>\n",
       "      <td>120</td>\n",
       "      <td>0</td>\n",
       "      <td>0</td>\n",
       "      <td>0</td>\n",
       "    </tr>\n",
       "    <tr>\n",
       "      <th>1</th>\n",
       "      <td>2</td>\n",
       "      <td>1</td>\n",
       "      <td>0</td>\n",
       "      <td>12</td>\n",
       "      <td>0</td>\n",
       "      <td>15</td>\n",
       "      <td>0</td>\n",
       "    </tr>\n",
       "  </tbody>\n",
       "</table>\n",
       "</div>"
      ],
      "text/plain": [
       "   Day  EC  EI   OD  LE  JG  GM\n",
       "0    1   1   2  120   0   0   0\n",
       "1    2   1   0   12   0  15   0"
      ]
     },
     "execution_count": 3,
     "metadata": {},
     "output_type": "execute_result"
    }
   ],
   "source": [
    "# somehow you need to figure out how to count how many days\n",
    "# passed since you last had exercise of a particular intensity\n",
    "# also, count how many days passed since the last time you exercised\n",
    "nonstudy_df = df[[\"Day\", \"EC\", \"EI\", \"OD\", \"LE\", \"JG\", \"GM\"]]\n",
    "nonstudy_df"
   ]
  },
  {
   "cell_type": "code",
   "execution_count": 4,
   "metadata": {},
   "outputs": [
    {
     "data": {
      "text/plain": [
       "{1: 100, 2: 1, 3: 100, 4: 100, 5: 100}"
      ]
     },
     "execution_count": 4,
     "metadata": {},
     "output_type": "execute_result"
    }
   ],
   "source": [
    "EI_last"
   ]
  },
  {
   "cell_type": "code",
   "execution_count": 5,
   "metadata": {},
   "outputs": [
    {
     "data": {
      "text/plain": [
       "2"
      ]
     },
     "execution_count": 5,
     "metadata": {},
     "output_type": "execute_result"
    }
   ],
   "source": [
    "# current_day = nonstudy_df[\"Day\"].iloc[-1]\n",
    "cur_day = df[\"Day\"].iloc[-1]\n",
    "cur_day"
   ]
  },
  {
   "cell_type": "code",
   "execution_count": 6,
   "metadata": {},
   "outputs": [
    {
     "name": "stdout",
     "output_type": "stream",
     "text": [
      "Regarding Exercise Intensity...\n",
      "EI level '1': last exercised not this month\n",
      "EI level '2': last exercised 1 day ago\n",
      "EI level '3': last exercised not this month\n",
      "EI level '4': last exercised not this month\n",
      "EI level '5': last exercised not this month\n"
     ]
    }
   ],
   "source": [
    "# that's monitoring stuff - daily stats\n",
    "def give_EI_feedback(EI_dir, current_day):\n",
    "    print(\"Regarding Exercise Intensity...\")\n",
    "    for key,value in EI_dir.items():\n",
    "        # for every EI, count how many days passed since \n",
    "        # the last time you had exercise of that intensity\n",
    "        difference = current_day - value\n",
    "        print(f\"EI level '{key}': last exercised\", end=\" \")\n",
    "        # handle negative values (no data for this particular\n",
    "        # month), 0 (exercised today) etc\n",
    "        if difference < 0:\n",
    "            print(\"not this month\")\n",
    "        elif difference == 0:\n",
    "            print(\"today\")\n",
    "        elif difference == 1:\n",
    "            print(\"1 day ago\")\n",
    "        elif difference > 1:\n",
    "            print(f\"{difference} days ago\")\n",
    "            \n",
    "give_EI_feedback(EI_last, cur_day)"
   ]
  },
  {
   "cell_type": "code",
   "execution_count": 7,
   "metadata": {},
   "outputs": [
    {
     "name": "stdout",
     "output_type": "stream",
     "text": [
      "This week (last day - 7)\n"
     ]
    }
   ],
   "source": [
    "# let's think how to count how many time I had exercise\n",
    "# of intensity level 3+ and how to present it in output\n",
    "print(\"This week (last day - 7)\")"
   ]
  },
  {
   "cell_type": "code",
   "execution_count": 8,
   "metadata": {},
   "outputs": [
    {
     "data": {
      "text/plain": [
       "0    1\n",
       "1    2\n",
       "Name: Day, dtype: int64"
      ]
     },
     "execution_count": 8,
     "metadata": {},
     "output_type": "execute_result"
    }
   ],
   "source": [
    "df[\"Day\"]"
   ]
  },
  {
   "cell_type": "code",
   "execution_count": 9,
   "metadata": {},
   "outputs": [
    {
     "data": {
      "text/html": [
       "<div>\n",
       "<style scoped>\n",
       "    .dataframe tbody tr th:only-of-type {\n",
       "        vertical-align: middle;\n",
       "    }\n",
       "\n",
       "    .dataframe tbody tr th {\n",
       "        vertical-align: top;\n",
       "    }\n",
       "\n",
       "    .dataframe thead th {\n",
       "        text-align: right;\n",
       "    }\n",
       "</style>\n",
       "<table border=\"1\" class=\"dataframe\">\n",
       "  <thead>\n",
       "    <tr style=\"text-align: right;\">\n",
       "      <th></th>\n",
       "      <th>Day</th>\n",
       "      <th>EI</th>\n",
       "    </tr>\n",
       "  </thead>\n",
       "  <tbody>\n",
       "    <tr>\n",
       "      <th>0</th>\n",
       "      <td>1</td>\n",
       "      <td>2</td>\n",
       "    </tr>\n",
       "    <tr>\n",
       "      <th>1</th>\n",
       "      <td>2</td>\n",
       "      <td>0</td>\n",
       "    </tr>\n",
       "  </tbody>\n",
       "</table>\n",
       "</div>"
      ],
      "text/plain": [
       "   Day  EI\n",
       "0    1   2\n",
       "1    2   0"
      ]
     },
     "execution_count": 9,
     "metadata": {},
     "output_type": "execute_result"
    }
   ],
   "source": [
    "df[[\"Day\", \"EI\"]].tail(10)"
   ]
  },
  {
   "cell_type": "code",
   "execution_count": 10,
   "metadata": {},
   "outputs": [
    {
     "data": {
      "text/plain": [
       "Day       int64\n",
       "DKind    object\n",
       "Math      int64\n",
       "CS        int64\n",
       "Eng       int64\n",
       "Total     int64\n",
       "EC        int64\n",
       "EI        int64\n",
       "OD        int64\n",
       "LE        int64\n",
       "JG        int64\n",
       "GM        int64\n",
       "dtype: object"
      ]
     },
     "execution_count": 10,
     "metadata": {},
     "output_type": "execute_result"
    }
   ],
   "source": [
    "df.dtypes"
   ]
  },
  {
   "cell_type": "code",
   "execution_count": 11,
   "metadata": {},
   "outputs": [
    {
     "data": {
      "text/plain": [
       "'April'"
      ]
     },
     "execution_count": 11,
     "metadata": {},
     "output_type": "execute_result"
    }
   ],
   "source": [
    "month_year_list = month.split()\n",
    "month_alone = month_year_list[0]\n",
    "year_alone = month_year_list[1]\n",
    "month = month_alone\n",
    "month"
   ]
  },
  {
   "cell_type": "code",
   "execution_count": 39,
   "metadata": {},
   "outputs": [
    {
     "data": {
      "text/plain": [
       "0"
      ]
     },
     "execution_count": 39,
     "metadata": {},
     "output_type": "execute_result"
    }
   ],
   "source": [
    "def get_EIL3plus_count(df, first_day):\n",
    "    \"\"\"\n",
    "    Summary:\n",
    "        Here we select days after the first day of \n",
    "        the interval AND days when EIL3+ exercises\n",
    "        happened. Then we count how many rows of df\n",
    "        meet the above requirements\n",
    "   \n",
    "        Note: EIL3+ stands for\n",
    "        Exercise Intensity Level 3 (+) plus\n",
    "    Args:\n",
    "        df: df with 'Day' and 'EI' cols\n",
    "    Returns:\n",
    "        count of rows\n",
    "    \"\"\"\n",
    "    return len(\n",
    "        df.loc[(df[\"Day\"] >= first_day) & (df[\"EI\"] >= 3)])\n",
    "\n",
    "count = get_EIL3plus_count(df, first_week_day)\n",
    "count"
   ]
  },
  {
   "cell_type": "code",
   "execution_count": 46,
   "metadata": {},
   "outputs": [
    {
     "name": "stdout",
     "output_type": "stream",
     "text": [
      "From April 1 to April 2, your EIL3+ count equals 0\n"
     ]
    }
   ],
   "source": [
    "# Here we get the last day of recorded data and try to\n",
    "# get a week interval by subracting 6 from the last day\n",
    "last_day = df[\"Day\"].iloc[-1]\n",
    "first_day = last_day - 6\n",
    "# case of the first day of the month\n",
    "if first_day == -5:\n",
    "    print(f\"On {month} 1\", end=\", \")\n",
    "else:\n",
    "    # Handle the case when new month hasn't accumulated 7+ days\n",
    "    # Here you'll have a smaller than a week interval\n",
    "    if first_day < 0:\n",
    "        first_day = 1\n",
    "    print(f\"From {month} {first_day} to {month} {last_day}\", end=\", \")\n",
    "count = get_EIL3plus_count(df, first_day)\n",
    "print(f\"your EIL3+ count equals {count}\")"
   ]
  },
  {
   "cell_type": "code",
   "execution_count": 50,
   "metadata": {},
   "outputs": [
    {
     "name": "stdout",
     "output_type": "stream",
     "text": [
      "That's a little too much. Consider having a break\n"
     ]
    }
   ],
   "source": [
    "count = 5\n",
    "if count < 2:\n",
    "    print(\"You haven't exercised enough this week!\")\n",
    "elif 2 <= count <= 4:\n",
    "    print(\"That's sufficient. Keep up the good work!\")\n",
    "elif count > 4:\n",
    "    print(\"That's a little too much. Consider having a break!\")"
   ]
  },
  {
   "cell_type": "code",
   "execution_count": null,
   "metadata": {},
   "outputs": [],
   "source": [
    "# maybe this func is gonna belong to 'monitoring' package\n",
    "def sport_stats():\n",
    "    \"\"\"\n",
    "    (Example)\n",
    "    You exercised this month: 10 times\n",
    "    Last time you got medium exercise: 3 days ago\n",
    "    Last time you got hard exercise: 7 days ago\n",
    "    \"\"\"\n",
    "    pass"
   ]
  }
 ],
 "metadata": {
  "kernelspec": {
   "display_name": "Python 3",
   "language": "python",
   "name": "python3"
  },
  "language_info": {
   "codemirror_mode": {
    "name": "ipython",
    "version": 3
   },
   "file_extension": ".py",
   "mimetype": "text/x-python",
   "name": "python",
   "nbconvert_exporter": "python",
   "pygments_lexer": "ipython3",
   "version": "3.10.2"
  },
  "orig_nbformat": 4,
  "vscode": {
   "interpreter": {
    "hash": "372546374ee67f23bce4863fdb45197b8301cd73a13a929f5ade301179cf3c81"
   }
  }
 },
 "nbformat": 4,
 "nbformat_minor": 2
}
