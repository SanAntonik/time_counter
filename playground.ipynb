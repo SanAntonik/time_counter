{
 "cells": [
  {
   "cell_type": "code",
   "execution_count": 1,
   "metadata": {},
   "outputs": [],
   "source": [
    "import numpy as np\n",
    "import pandas as pd\n",
    "\n",
    "from preparation import prepare_data\n",
    "from calculation import calculate_data\n",
    "from handle_reports import generate_report, append_report\n",
    "from monitoring import cur_stats\n",
    "from plotting import plot_data"
   ]
  },
  {
   "attachments": {},
   "cell_type": "markdown",
   "metadata": {},
   "source": [
    "Here you test something"
   ]
  },
  {
   "cell_type": "code",
   "execution_count": 2,
   "metadata": {},
   "outputs": [],
   "source": [
    "PATH = \"C:/Users/San/Documents/inf/time monitoring/test_data.txt\"\n",
    "DAY_OFFS = []"
   ]
  },
  {
   "cell_type": "code",
   "execution_count": 3,
   "metadata": {},
   "outputs": [],
   "source": [
    "# month, df, day_offs_count, day_offs_str = prepare_data(PATH, DAY_OFFS)"
   ]
  },
  {
   "attachments": {},
   "cell_type": "markdown",
   "metadata": {},
   "source": [
    "Exercise intensity notation:\n",
    "- 0 - you didn't exercise\n",
    "- 1 - easy\n",
    "- 2 - between easy and moderate\n",
    "- 3 - moderate\n",
    "- 4 - between moderate and hard\n",
    "- 5 - hard"
   ]
  },
  {
   "cell_type": "code",
   "execution_count": 5,
   "metadata": {},
   "outputs": [
    {
     "data": {
      "text/html": [
       "<div>\n",
       "<style scoped>\n",
       "    .dataframe tbody tr th:only-of-type {\n",
       "        vertical-align: middle;\n",
       "    }\n",
       "\n",
       "    .dataframe tbody tr th {\n",
       "        vertical-align: top;\n",
       "    }\n",
       "\n",
       "    .dataframe thead th {\n",
       "        text-align: right;\n",
       "    }\n",
       "</style>\n",
       "<table border=\"1\" class=\"dataframe\">\n",
       "  <thead>\n",
       "    <tr style=\"text-align: right;\">\n",
       "      <th></th>\n",
       "      <th>Day</th>\n",
       "      <th>Math</th>\n",
       "      <th>CS</th>\n",
       "      <th>Eng</th>\n",
       "      <th>Sport</th>\n",
       "      <th>Intensity</th>\n",
       "      <th>Outdoor</th>\n",
       "      <th>LE</th>\n",
       "      <th>Jug</th>\n",
       "      <th>Gaming</th>\n",
       "    </tr>\n",
       "  </thead>\n",
       "  <tbody>\n",
       "    <tr>\n",
       "      <th>0</th>\n",
       "      <td>17</td>\n",
       "      <td>90</td>\n",
       "      <td>85</td>\n",
       "      <td>131</td>\n",
       "      <td>pa9</td>\n",
       "      <td>3</td>\n",
       "      <td>ou60</td>\n",
       "      <td>le5</td>\n",
       "      <td>ju0</td>\n",
       "      <td>ga240</td>\n",
       "    </tr>\n",
       "    <tr>\n",
       "      <th>1</th>\n",
       "      <td>18</td>\n",
       "      <td>80</td>\n",
       "      <td>110</td>\n",
       "      <td>70</td>\n",
       "      <td>pa10</td>\n",
       "      <td>3</td>\n",
       "      <td>ou60</td>\n",
       "      <td>le5</td>\n",
       "      <td>ju0</td>\n",
       "      <td>ga65</td>\n",
       "    </tr>\n",
       "    <tr>\n",
       "      <th>2</th>\n",
       "      <td>19</td>\n",
       "      <td>70</td>\n",
       "      <td>90</td>\n",
       "      <td>65</td>\n",
       "      <td>pa10</td>\n",
       "      <td>0</td>\n",
       "      <td>ou70</td>\n",
       "      <td>le0</td>\n",
       "      <td>ju10</td>\n",
       "      <td>ga260</td>\n",
       "    </tr>\n",
       "    <tr>\n",
       "      <th>3</th>\n",
       "      <td>20</td>\n",
       "      <td>70</td>\n",
       "      <td>70</td>\n",
       "      <td>35</td>\n",
       "      <td>pa11</td>\n",
       "      <td>3</td>\n",
       "      <td>ou40</td>\n",
       "      <td>le5</td>\n",
       "      <td>ju0</td>\n",
       "      <td>ga150</td>\n",
       "    </tr>\n",
       "  </tbody>\n",
       "</table>\n",
       "</div>"
      ],
      "text/plain": [
       "   Day  Math   CS  Eng Sport  Intensity Outdoor   LE   Jug Gaming\n",
       "0   17    90   85  131   pa9          3    ou60  le5   ju0  ga240\n",
       "1   18    80  110   70  pa10          3    ou60  le5   ju0   ga65\n",
       "2   19    70   90   65  pa10          0    ou70  le0  ju10  ga260\n",
       "3   20    70   70   35  pa11          3    ou40  le5   ju0  ga150"
      ]
     },
     "execution_count": 5,
     "metadata": {},
     "output_type": "execute_result"
    }
   ],
   "source": [
    "# Create list of colnames\n",
    "colnames = [\"Day\", \"Math\", \"CS\", \"Eng\", \"Sport\", \"Intensity\", \"Outdoor\", \"LE\", \"Jug\", \"Gaming\"]\n",
    "# Load data into df with sep equal to ':' and '_'\n",
    "df = pd.read_csv(\n",
    "    filepath_or_buffer=PATH, sep=\"[:_-]\", names=colnames,\n",
    "    header=None, engine=\"python\")\n",
    "df"
   ]
  },
  {
   "cell_type": "code",
   "execution_count": 14,
   "metadata": {},
   "outputs": [],
   "source": [
    "# in the cols below first two symbols are for easier\n",
    "# identification while writing the data\n",
    "cols_to_shorten = [\"Sport\", \"Outdoor\", \"LE\", \"Jug\", \"Gaming\"]\n",
    "# many thanks to https://stackoverflow.com/a/42349635/11749578\n",
    "for col in cols_to_shorten:\n",
    "    df[col] = df[col].str[2:]"
   ]
  },
  {
   "cell_type": "code",
   "execution_count": 15,
   "metadata": {},
   "outputs": [
    {
     "data": {
      "text/html": [
       "<div>\n",
       "<style scoped>\n",
       "    .dataframe tbody tr th:only-of-type {\n",
       "        vertical-align: middle;\n",
       "    }\n",
       "\n",
       "    .dataframe tbody tr th {\n",
       "        vertical-align: top;\n",
       "    }\n",
       "\n",
       "    .dataframe thead th {\n",
       "        text-align: right;\n",
       "    }\n",
       "</style>\n",
       "<table border=\"1\" class=\"dataframe\">\n",
       "  <thead>\n",
       "    <tr style=\"text-align: right;\">\n",
       "      <th></th>\n",
       "      <th>Day</th>\n",
       "      <th>Math</th>\n",
       "      <th>CS</th>\n",
       "      <th>Eng</th>\n",
       "      <th>Sport</th>\n",
       "      <th>Intensity</th>\n",
       "      <th>Outdoor</th>\n",
       "      <th>LE</th>\n",
       "      <th>Jug</th>\n",
       "      <th>Gaming</th>\n",
       "    </tr>\n",
       "  </thead>\n",
       "  <tbody>\n",
       "    <tr>\n",
       "      <th>0</th>\n",
       "      <td>17</td>\n",
       "      <td>90</td>\n",
       "      <td>85</td>\n",
       "      <td>131</td>\n",
       "      <td>9</td>\n",
       "      <td>3</td>\n",
       "      <td>60</td>\n",
       "      <td>5</td>\n",
       "      <td>0</td>\n",
       "      <td>240</td>\n",
       "    </tr>\n",
       "    <tr>\n",
       "      <th>1</th>\n",
       "      <td>18</td>\n",
       "      <td>80</td>\n",
       "      <td>110</td>\n",
       "      <td>70</td>\n",
       "      <td>10</td>\n",
       "      <td>3</td>\n",
       "      <td>60</td>\n",
       "      <td>5</td>\n",
       "      <td>0</td>\n",
       "      <td>65</td>\n",
       "    </tr>\n",
       "    <tr>\n",
       "      <th>2</th>\n",
       "      <td>19</td>\n",
       "      <td>70</td>\n",
       "      <td>90</td>\n",
       "      <td>65</td>\n",
       "      <td>10</td>\n",
       "      <td>0</td>\n",
       "      <td>70</td>\n",
       "      <td>0</td>\n",
       "      <td>10</td>\n",
       "      <td>260</td>\n",
       "    </tr>\n",
       "    <tr>\n",
       "      <th>3</th>\n",
       "      <td>20</td>\n",
       "      <td>70</td>\n",
       "      <td>70</td>\n",
       "      <td>35</td>\n",
       "      <td>11</td>\n",
       "      <td>3</td>\n",
       "      <td>40</td>\n",
       "      <td>5</td>\n",
       "      <td>0</td>\n",
       "      <td>150</td>\n",
       "    </tr>\n",
       "  </tbody>\n",
       "</table>\n",
       "</div>"
      ],
      "text/plain": [
       "   Day  Math   CS  Eng Sport  Intensity Outdoor LE Jug Gaming\n",
       "0   17    90   85  131     9          3      60  5   0    240\n",
       "1   18    80  110   70    10          3      60  5   0     65\n",
       "2   19    70   90   65    10          0      70  0  10    260\n",
       "3   20    70   70   35    11          3      40  5   0    150"
      ]
     },
     "execution_count": 15,
     "metadata": {},
     "output_type": "execute_result"
    }
   ],
   "source": [
    "df"
   ]
  }
 ],
 "metadata": {
  "kernelspec": {
   "display_name": "Python 3",
   "language": "python",
   "name": "python3"
  },
  "language_info": {
   "codemirror_mode": {
    "name": "ipython",
    "version": 3
   },
   "file_extension": ".py",
   "mimetype": "text/x-python",
   "name": "python",
   "nbconvert_exporter": "python",
   "pygments_lexer": "ipython3",
   "version": "3.10.2"
  },
  "orig_nbformat": 4,
  "vscode": {
   "interpreter": {
    "hash": "372546374ee67f23bce4863fdb45197b8301cd73a13a929f5ade301179cf3c81"
   }
  }
 },
 "nbformat": 4,
 "nbformat_minor": 2
}
