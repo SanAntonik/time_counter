{
 "cells": [
  {
   "attachments": {},
   "cell_type": "markdown",
   "metadata": {},
   "source": [
    "# Here you test something"
   ]
  },
  {
   "attachments": {},
   "cell_type": "markdown",
   "metadata": {},
   "source": [
    "Cols meaning:\n",
    "- Day - day of the month\n",
    "- DKind - day kind\n",
    "- SIL - sport intensity level - has six levels from 0 - didn't exercise to 5 - hard exercise (More info in a separate message)\n",
    "- OD - outdoor\n",
    "- LE - left-eye reading\n",
    "- JG - juggling\n",
    "- GM - gaming\n"
   ]
  },
  {
   "attachments": {},
   "cell_type": "markdown",
   "metadata": {},
   "source": [
    "(Separate message about SIL)\n",
    "Exercise intensity notation:\n",
    "- 0 - you didn't exercise\n",
    "- 1 - easy\n",
    "- 2 - between easy and moderate\n",
    "- 3 - moderate\n",
    "- 4 - between moderate and hard\n",
    "- 5 - hard"
   ]
  },
  {
   "cell_type": "code",
   "execution_count": 2,
   "metadata": {},
   "outputs": [
    {
     "name": "stderr",
     "output_type": "stream",
     "text": [
      "c:\\Users\\San\\Documents\\CS projects\\time_counter\\preparation\\calc_study_data.py:23: SettingWithCopyWarning: \n",
      "A value is trying to be set on a copy of a slice from a DataFrame.\n",
      "Try using .loc[row_indexer,col_indexer] = value instead\n",
      "\n",
      "See the caveats in the documentation: https://pandas.pydata.org/pandas-docs/stable/user_guide/indexing.html#returning-a-view-versus-a-copy\n",
      "  df[\"Total\"] = total_per_day\n"
     ]
    },
    {
     "data": {
      "text/plain": [
       "[0, 1, 0, 1, 50, 0, 'you studied every day', 1]"
      ]
     },
     "execution_count": 2,
     "metadata": {},
     "output_type": "execute_result"
    }
   ],
   "source": [
    "import numpy as np\n",
    "import pandas as pd\n",
    "\n",
    "from preparation.prepare_data import prepare_data\n",
    "from constants import PATH, APPEND_PATH, PREVIOUS_DATA_FOLDER\n",
    "\n",
    "DAY_OFFS = []\n",
    "DESIRED_MEAN_VALUE = 240\n",
    "report_data, wide_use_data = prepare_data(PATH, DAY_OFFS, DESIRED_MEAN_VALUE)\n",
    "report_data"
   ]
  },
  {
   "cell_type": "code",
   "execution_count": 8,
   "metadata": {},
   "outputs": [
    {
     "data": {
      "text/plain": [
       "['DAY_OFFS',\n",
       " 'DESIRED_MEAN_VALUE',\n",
       " 'In',\n",
       " 'Out',\n",
       " 'PATH',\n",
       " '_',\n",
       " '_6',\n",
       " '__',\n",
       " '___',\n",
       " '__builtin__',\n",
       " '__builtins__',\n",
       " '__doc__',\n",
       " '__loader__',\n",
       " '__name__',\n",
       " '__package__',\n",
       " '__spec__',\n",
       " '__vsc_ipynb_file__',\n",
       " '_dh',\n",
       " '_i',\n",
       " '_i1',\n",
       " '_i2',\n",
       " '_i3',\n",
       " '_i4',\n",
       " '_i5',\n",
       " '_i6',\n",
       " '_i7',\n",
       " '_i8',\n",
       " '_ih',\n",
       " '_ii',\n",
       " '_iii',\n",
       " '_oh',\n",
       " 'append_report',\n",
       " 'calc_req_study_time',\n",
       " 'calc_study_data',\n",
       " 'categorise',\n",
       " 'cur_stats',\n",
       " 'df',\n",
       " 'exit',\n",
       " 'generate_report',\n",
       " 'get_ipython',\n",
       " 'handle_day_offs',\n",
       " 'handle_nonstudy_data',\n",
       " 'mean',\n",
       " 'min_to_study',\n",
       " 'month',\n",
       " 'nonstudy_df',\n",
       " 'np',\n",
       " 'os',\n",
       " 'pd',\n",
       " 'plot_data',\n",
       " 'prepare_data',\n",
       " 'prepare_initial_df',\n",
       " 'quit',\n",
       " 'report_data',\n",
       " 'std',\n",
       " 'sys',\n",
       " 'wide_use_data']"
      ]
     },
     "execution_count": 8,
     "metadata": {},
     "output_type": "execute_result"
    }
   ],
   "source": [
    "dir()"
   ]
  },
  {
   "cell_type": "code",
   "execution_count": 9,
   "metadata": {},
   "outputs": [],
   "source": [
    "# maybe this func is gonna belong to 'monitoring' package\n",
    "def sport_stats():\n",
    "    \"\"\"\n",
    "    (Example)\n",
    "    You exercised this month: 10 times\n",
    "    Last time you got medium exercise: 3 days ago\n",
    "    Last time you got hard exercise: 7 days ago\n",
    "    \"\"\"\n",
    "    pass"
   ]
  }
 ],
 "metadata": {
  "kernelspec": {
   "display_name": "Python 3",
   "language": "python",
   "name": "python3"
  },
  "language_info": {
   "codemirror_mode": {
    "name": "ipython",
    "version": 3
   },
   "file_extension": ".py",
   "mimetype": "text/x-python",
   "name": "python",
   "nbconvert_exporter": "python",
   "pygments_lexer": "ipython3",
   "version": "3.10.2"
  },
  "orig_nbformat": 4,
  "vscode": {
   "interpreter": {
    "hash": "372546374ee67f23bce4863fdb45197b8301cd73a13a929f5ade301179cf3c81"
   }
  }
 },
 "nbformat": 4,
 "nbformat_minor": 2
}
