{
 "cells": [
  {
   "attachments": {},
   "cell_type": "markdown",
   "metadata": {},
   "source": [
    "# Here you test something"
   ]
  },
  {
   "attachments": {},
   "cell_type": "markdown",
   "metadata": {},
   "source": [
    "Cols meaning:\n",
    "- Day - day of the month\n",
    "- DKind - day kind\n",
    "- EC - exercise count\n",
    "- EI - exercise intensity - has six levels from 0 - didn't exercise to 5 - hard exercise (More info in a separate message)\n",
    "- OD - outdoor\n",
    "- LE - left-eye reading\n",
    "- RN - running\n",
    "- GM - gaming\n"
   ]
  },
  {
   "attachments": {},
   "cell_type": "markdown",
   "metadata": {},
   "source": [
    "(Separate message about EI)\n",
    "Exercise intensity notation:\n",
    "- 0 - you didn't exercise\n",
    "- 1 - easy\n",
    "- 2 - between easy and moderate\n",
    "- 3 - moderate\n",
    "- 4 - between moderate and hard\n",
    "- 5 - hard"
   ]
  },
  {
   "cell_type": "code",
   "execution_count": 4,
   "metadata": {},
   "outputs": [
    {
     "data": {
      "text/html": [
       "<div>\n",
       "<style scoped>\n",
       "    .dataframe tbody tr th:only-of-type {\n",
       "        vertical-align: middle;\n",
       "    }\n",
       "\n",
       "    .dataframe tbody tr th {\n",
       "        vertical-align: top;\n",
       "    }\n",
       "\n",
       "    .dataframe thead th {\n",
       "        text-align: right;\n",
       "    }\n",
       "</style>\n",
       "<table border=\"1\" class=\"dataframe\">\n",
       "  <thead>\n",
       "    <tr style=\"text-align: right;\">\n",
       "      <th></th>\n",
       "      <th>Day</th>\n",
       "      <th>DKind</th>\n",
       "      <th>Math</th>\n",
       "      <th>CS</th>\n",
       "      <th>Eng</th>\n",
       "      <th>Total</th>\n",
       "      <th>EC</th>\n",
       "      <th>EI</th>\n",
       "      <th>OD</th>\n",
       "      <th>LE</th>\n",
       "      <th>RN</th>\n",
       "      <th>GM</th>\n",
       "    </tr>\n",
       "  </thead>\n",
       "  <tbody>\n",
       "    <tr>\n",
       "      <th>0</th>\n",
       "      <td>1</td>\n",
       "      <td>work</td>\n",
       "      <td>0</td>\n",
       "      <td>0</td>\n",
       "      <td>43</td>\n",
       "      <td>43</td>\n",
       "      <td>1</td>\n",
       "      <td>2</td>\n",
       "      <td>130</td>\n",
       "      <td>0</td>\n",
       "      <td>0</td>\n",
       "      <td>0</td>\n",
       "    </tr>\n",
       "    <tr>\n",
       "      <th>1</th>\n",
       "      <td>2</td>\n",
       "      <td>work</td>\n",
       "      <td>0</td>\n",
       "      <td>265</td>\n",
       "      <td>15</td>\n",
       "      <td>280</td>\n",
       "      <td>1</td>\n",
       "      <td>0</td>\n",
       "      <td>105</td>\n",
       "      <td>0</td>\n",
       "      <td>0</td>\n",
       "      <td>0</td>\n",
       "    </tr>\n",
       "    <tr>\n",
       "      <th>2</th>\n",
       "      <td>3</td>\n",
       "      <td>work</td>\n",
       "      <td>0</td>\n",
       "      <td>5</td>\n",
       "      <td>7</td>\n",
       "      <td>12</td>\n",
       "      <td>1</td>\n",
       "      <td>0</td>\n",
       "      <td>0</td>\n",
       "      <td>0</td>\n",
       "      <td>0</td>\n",
       "      <td>0</td>\n",
       "    </tr>\n",
       "  </tbody>\n",
       "</table>\n",
       "</div>"
      ],
      "text/plain": [
       "   Day DKind  Math   CS  Eng  Total  EC  EI   OD  LE  RN  GM\n",
       "0    1  work     0    0   43     43   1   2  130   0   0   0\n",
       "1    2  work     0  265   15    280   1   0  105   0   0   0\n",
       "2    3  work     0    5    7     12   1   0    0   0   0   0"
      ]
     },
     "execution_count": 4,
     "metadata": {},
     "output_type": "execute_result"
    }
   ],
   "source": [
    "import numpy as np\n",
    "import pandas as pd\n",
    "\n",
    "from preparation.prepare_data import prepare_data\n",
    "from constants import PATH, APPEND_PATH, PREVIOUS_DATA_FOLDER\n",
    "\n",
    "DAY_OFFS = []\n",
    "DESIRED_MEAN_VALUE = 275\n",
    "rep_data, wide_use_data, feedback_data = prepare_data(PATH, DAY_OFFS,\n",
    "                                              DESIRED_MEAN_VALUE)\n",
    "month, mean, std, df = wide_use_data\n",
    "df"
   ]
  },
  {
   "cell_type": "code",
   "execution_count": 5,
   "metadata": {},
   "outputs": [
    {
     "data": {
      "text/plain": [
       "([0, 4, 1, 6, 112, 0, 'you studied every day'],\n",
       " [['OD', 'LE', 'RN', 'GM'],\n",
       "  1,\n",
       "  [3.92, 0.0, 0.0, 0.0],\n",
       "  [2, 0, 0, 0],\n",
       "  {1: 0, 2: 1, 3: 0, 4: 0, 5: 0}])"
      ]
     },
     "execution_count": 5,
     "metadata": {},
     "output_type": "execute_result"
    }
   ],
   "source": [
    "rep_data"
   ]
  },
  {
   "cell_type": "markdown",
   "metadata": {},
   "source": [
    "# Working with 'hobby' data"
   ]
  },
  {
   "cell_type": "code",
   "execution_count": 17,
   "metadata": {},
   "outputs": [
    {
     "name": "stdout",
     "output_type": "stream",
     "text": [
      "Books:\n",
      "1. \"The Republic of Thieves: Gentleman Bastards\" by Scott Lynch | audiobook on January 5, 2023\n",
      "2. \"Hyperion\" by Dan Simmons | audiobook on January 13, 2023\n",
      "3. \"Propaganda\" by Edward Bernays | audiobook on January 17, 2023\n",
      "4. \"The Fall of Hyperion\" by Dan Simmons | audiobook on January 23, 2023\n",
      "5. \"Джури-характерники\" by Володимир Рутківський on January 23, 2023\n",
      "6. \"Zen in the Art of Writing\" by Ray Bradbury | audiobook on January 25, 2023\n",
      "7. \"The Final Empire: Mistborn, Book 1\" by Brandon Sanderson | audiobook on February 2, 2023\n",
      "8. \"The Well of Ascension: Mistborn, Book 2\" by Brandon Sanderson | audiobook on February 4, 2023\n",
      "9. \"The Hero of Ages: Mistborn: Book 3\" by Brandon Sanderson | audiobook on February 6, 2023\n",
      "10. \"Factotum\" by Charles Bukowski | audiobook on February 9, 2023\n",
      "11. \"Ham on Rye\" by Charles Bukowski | audiobook on February 12, 2023\n",
      "12. \"Warbreaker\" by Brandon Sanderson on February 13, 2023\n",
      "13. \"Hollywood\" by Charles Bukowski | audiobook on February 16, 2023\n",
      "14. \"Pulp\" by Charles Bukowski | audiobook on February 18, 2023\n",
      "15. \"Project Hail Mary\" by Andy Weir | audiobook on February 28, 2023\n",
      "16. \"The Two Towers\" | The Lord of the Rings, Book 2 | by J.R.R. Tolkien | audiobook on March 1, 2023\n",
      "17. \"Сезон Гроз\" by Анджей Сапковський on March 5, 2023 \n",
      "18. \"The Return of the King\" | The Lord of the Rings, Book 3 | by J.R.R. Tolkien | audiobook on March 12, 2023\n",
      "19. \"Black Flags, Blue Waters: The Epic History of America's Most Notorious Pirates\" by Eric Jay Dolin | audiobook on March 20, 2023\n",
      "20. \"Vietnam: An Epic Tragedy, 1945-1975\" by Max Hastings | audiobook on April 13, 2023\n",
      "21. \"Things I'll Never Forget: Memories of a Marine in Viet Nam\" by James M. Dixon | audiobook on April 21, 2023\n",
      "22. \"The Invisible Man\" by H.G. Wells | audiobook on April 26, 2023\n",
      "23. \"The Importance of Being Earnest\" by Oscar Wilde | audiobook on April 27, 2023\n",
      "24. \"Hot Water Music\" by Charles Bukowski | audiobook on May 1, 2023\n",
      "25. \"Women\" by Charles Bukowski | audiobook on May 11, 2023\n",
      "26. \"Thunder Below!: The USS Barb Revolutionizes Submarine Warfare in World War II\" by Eugene B. Fluckey | audiobook on May 28, 2023\n",
      "27. \"Тотальний Опір, ч.1\" by Ганс Дах on June 2, 2023\n",
      "28. \"The 48 Laws of Power\" by Robert Greene | audiobook on June 4, 2023\n",
      "29. \"The Red Prince\" by Timothy Snyder | audiobook on June 13, 2023\n",
      "30. \"Bloodlands: Europe Between Hitler and Stalin\" by Timothy Snyder | audiobook on June 22, 2023\n",
      "31. \"Вежа Блазнів\" by Анджей Сапковський on June 27, 2023\n",
      "32. \"The Hitchhiker's Guide to the Galaxy\" by Douglas Adams | audiobook on June 30, 2023\n",
      "33. \"The Restaurant at the End of the Universe\" by Douglas Adams | audiobook on July 12, 2023\n",
      "34. \"And Then There Were None\" by Agatha Christie | audiobook on July 17, 2023\n",
      "35. \"The Lost World\" by Sir Arthur Conan Doyle | audiobook on July 23, 2023\n",
      "36. \"Troy: The Siege of Troy Retold\" by Stephen Fry | audiobook on July 28, 2023\n",
      "37. \"The Importance of Being Earnest\" by Oscar Wilde | audiobook on July 31, 2023\n",
      "38. \"The Enchiridion of Epictetus\" by Epictetus | audiobook on August 4, 2023\n",
      "39. \"Seneca: On the Shortness of Life\" by Seneca | audiobook on August 4, 2023\n",
      "40. \"Seneca: Of Tranquility of Mind\" by Seneca | audiobook on August 4, 2023\n",
      "41. \"The Hatchet\" by Gary Paulsen | audiobook on August 7, 2023\n",
      "\n",
      "\n",
      "Movies:\n",
      "1. Romancing the Stone on Jan 6, 2023\n",
      "2. Star Trek: The Wrath of Khan on Jan 15, 2023\n",
      "3. Greyhound on Jan 16, 2023\n",
      "4. The Thing on Jan 19, 2023\n",
      "5. Blazing Saddles on Jan 22, 2023\n",
      "6. Citizen Kane on Jan 25, 2023\n",
      "7. Midnight Run on Jan 27, 2023\n",
      "8. Unforgiven on Jan 30, 2023\n",
      "9. Falling Down on Jan 30, 2023\n",
      "10. Puss in Boots: The Last Wish on Feb 8, 2023\n",
      "11. Puss in Boots: The Last Wish on Feb 10, 2023\n",
      "12. The Family Man on Feb 19, 2023\n",
      "13. Lawrence of Arabia 1962 on Apr 1, 2023\n",
      "14. The Dirty Dozen 1967 on Apr 3, 2023\n",
      "15. The Last of the Mohicans on Apr 5, 2023\n",
      "16. Stripes 1981 on Apr 5, 2023\n",
      "17. Heat 1995 on Apr 5, 2023\n",
      "18. Die Hard on Apr 8, 2023\n",
      "19. Pulp Fiction on Apr 16, 2023\n",
      "20. Serenity on Apr 17, 2023\n",
      "21. Apocalypse Now on Apr 22, 2023\n",
      "22. The Fifth Element on Apr 26, 2023\n",
      "23. Red Heat on Apr 26, 2023\n",
      "24. Demolition Man on Apr 27, 2023\n",
      "25. Hot Fuzz on Apr 29, 2023\n",
      "26. The 40 Year Old Virgin on May 11, 2023\n",
      "27. Cleopatra on Jun 13, 2023\n",
      "28. One Flew Over the Cuckoo's Nest on Jul 13, 2023\n",
      "29. We Were Soldiers on Jul 19, 2023\n",
      "\n",
      "\n",
      "Games:\n",
      "1. Marvel's Guardians of the Galaxy on Jan 15, 2023 (25 hours)\n",
      "2. Titanfall 2 on February 19, 2023 (6 hours)\n",
      "3. Yakuza Like a Dragon on March 18, 2023 (55 hours)\n",
      "4. Endless Space 2 on March 25, 2023 (42 hours)\n",
      "5. Kena: Bridge of Spirits on May 9, 2023 (12 hours)\n",
      "6. Black Mesa on May 29, 2023 (17 hours)\n",
      "7. Deus Ex Human Revolution on June 8, 2023 (40 hours)\n",
      "8. Dishonored 1 on June 20, 2023 (18 hours)\n",
      "\n",
      "\n",
      "Series:\n",
      "1. Generation Kill on Jul 30, 2023\n",
      "2. The Expanse Season 1 on Aug 1, 2023\n",
      "3. The Expanse Season 2 on Aug 2, 2023\n",
      "4. The Expanse Season 3 on Aug 5, 2023\n",
      "5. The Expanse Season 4 on Aug 5, 2023\n",
      "6. The Expanse Season 5 on Aug 8, 2023\n",
      "\n",
      "\n",
      "Sport:\n",
      "1. 5 Day Yoga Challenge 2023 on Jan 22, 2023\n",
      "2. ENERGIZE - YWA June 2022 on Mar 4, 2023\n",
      "3. 30 Days of Yoga on June 19, 2023\n",
      "\n",
      "\n",
      "Courses:\n",
      "1. Applied Plotting, Charting & Data Representation in Python on Feb 15, 2023\n",
      "2. Calculus for Machine Learning and Data Science by DeepLearning.AI on Mar 22, 2023\n",
      "3. Linear Algebra for Machine Learning and Data Science by DeepLearning.AI on Apr 7, 2023\n",
      "4. Probability & Statistics for Machine Learning and Data Science by DeepLearning.AI on July 31, 2023\n",
      "\n"
     ]
    }
   ],
   "source": [
    "import re\n",
    "import pandas as pd\n",
    "\n",
    "# Read the text file with UTF-8 encoding\n",
    "with open(\"2023 - What I read, watched and played.txt\", \"r\", encoding=\"utf-8\") as file:\n",
    "    content = file.read()\n",
    "\n",
    "print(content)"
   ]
  },
  {
   "cell_type": "code",
   "execution_count": 18,
   "metadata": {},
   "outputs": [
    {
     "name": "stdout",
     "output_type": "stream",
     "text": [
      "Movies DataFrame:\n",
      "Empty DataFrame\n",
      "Columns: [Title, Watching Date]\n",
      "Index: []\n"
     ]
    }
   ],
   "source": [
    "# Find the section for movies\n",
    "movies_section = re.search(r\"Movies:(.*?)Games:\", content, re.DOTALL).group(1).strip()\n",
    "\n",
    "# Initialize a list to store movie data\n",
    "movie_data = []\n",
    "\n",
    "# Define a regular expression pattern for extracting movie information\n",
    "movie_pattern = re.compile(r'(?:\"([^\"]+)\".*on ([A-Za-z]+ \\d{1,2}, \\d{4}))')\n",
    "\n",
    "# Extract movie information using the pattern\n",
    "movie_data.extend(movie_pattern.findall(movies_section))\n",
    "\n",
    "# Create a pandas DataFrame for movies\n",
    "movies_df = pd.DataFrame(movie_data, columns=[\"Title\", \"Watching Date\"])\n",
    "\n",
    "# Print the DataFrame (you can later add it to a database)\n",
    "print(\"Movies DataFrame:\")\n",
    "print(movies_df)"
   ]
  }
 ],
 "metadata": {
  "kernelspec": {
   "display_name": "Python 3",
   "language": "python",
   "name": "python3"
  },
  "language_info": {
   "codemirror_mode": {
    "name": "ipython",
    "version": 3
   },
   "file_extension": ".py",
   "mimetype": "text/x-python",
   "name": "python",
   "nbconvert_exporter": "python",
   "pygments_lexer": "ipython3",
   "version": "3.10.2"
  },
  "orig_nbformat": 4,
  "vscode": {
   "interpreter": {
    "hash": "372546374ee67f23bce4863fdb45197b8301cd73a13a929f5ade301179cf3c81"
   }
  }
 },
 "nbformat": 4,
 "nbformat_minor": 2
}
